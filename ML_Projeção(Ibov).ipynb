{
  "nbformat": 4,
  "nbformat_minor": 0,
  "metadata": {
    "colab": {
      "name": "ML Projeção(Ibov).ipynb",
      "provenance": [],
      "collapsed_sections": []
    },
    "kernelspec": {
      "name": "python3",
      "display_name": "Python 3"
    }
  },
  "cells": [
    {
      "cell_type": "code",
      "metadata": {
        "id": "ju1mvz7X9Akw",
        "colab": {
          "base_uri": "https://localhost:8080/"
        },
        "outputId": "e33cd770-dd97-413b-f7f1-ec2ef338a11a"
      },
      "source": [
        "!pip install yfinance"
      ],
      "execution_count": null,
      "outputs": [
        {
          "output_type": "stream",
          "text": [
            "Requirement already satisfied: yfinance in /usr/local/lib/python3.6/dist-packages (0.1.55)\n",
            "Requirement already satisfied: pandas>=0.24 in /usr/local/lib/python3.6/dist-packages (from yfinance) (1.1.5)\n",
            "Requirement already satisfied: requests>=2.20 in /usr/local/lib/python3.6/dist-packages (from yfinance) (2.23.0)\n",
            "Requirement already satisfied: numpy>=1.15 in /usr/local/lib/python3.6/dist-packages (from yfinance) (1.19.4)\n",
            "Requirement already satisfied: multitasking>=0.0.7 in /usr/local/lib/python3.6/dist-packages (from yfinance) (0.0.9)\n",
            "Requirement already satisfied: lxml>=4.5.1 in /usr/local/lib/python3.6/dist-packages (from yfinance) (4.6.2)\n",
            "Requirement already satisfied: python-dateutil>=2.7.3 in /usr/local/lib/python3.6/dist-packages (from pandas>=0.24->yfinance) (2.8.1)\n",
            "Requirement already satisfied: pytz>=2017.2 in /usr/local/lib/python3.6/dist-packages (from pandas>=0.24->yfinance) (2018.9)\n",
            "Requirement already satisfied: urllib3!=1.25.0,!=1.25.1,<1.26,>=1.21.1 in /usr/local/lib/python3.6/dist-packages (from requests>=2.20->yfinance) (1.24.3)\n",
            "Requirement already satisfied: certifi>=2017.4.17 in /usr/local/lib/python3.6/dist-packages (from requests>=2.20->yfinance) (2020.12.5)\n",
            "Requirement already satisfied: idna<3,>=2.5 in /usr/local/lib/python3.6/dist-packages (from requests>=2.20->yfinance) (2.10)\n",
            "Requirement already satisfied: chardet<4,>=3.0.2 in /usr/local/lib/python3.6/dist-packages (from requests>=2.20->yfinance) (3.0.4)\n",
            "Requirement already satisfied: six>=1.5 in /usr/local/lib/python3.6/dist-packages (from python-dateutil>=2.7.3->pandas>=0.24->yfinance) (1.15.0)\n"
          ],
          "name": "stdout"
        }
      ]
    },
    {
      "cell_type": "code",
      "metadata": {
        "id": "NghTLIBPT4ty"
      },
      "source": [
        "from sklearn.svm import SVR\r\n",
        "import numpy as np\r\n",
        "import pandas as pd\r\n",
        "import matplotlib.pyplot as plt\r\n",
        "import yfinance as yf\r\n",
        "plt.style.use('fivethirtyeight')"
      ],
      "execution_count": null,
      "outputs": []
    },
    {
      "cell_type": "markdown",
      "metadata": {
        "id": "Es3V6eVCU7oZ"
      },
      "source": [
        "# 1) Obtendo dados de alguma empresa com ações listadas no YahooFinance"
      ]
    },
    {
      "cell_type": "markdown",
      "metadata": {
        "id": "M3RAXq8sj2H1"
      },
      "source": [
        "## 1.1) Exemplo com a Petrobrás"
      ]
    },
    {
      "cell_type": "code",
      "metadata": {
        "colab": {
          "base_uri": "https://localhost:8080/"
        },
        "id": "ACBvxvQ-R-wO",
        "outputId": "d82af058-4269-4052-a947-79866d91d912"
      },
      "source": [
        "tickers = ['PETR3.SA']\r\n",
        "df1 = yf.download(tickers, start='2020-12-1',end='2020-12-16')"
      ],
      "execution_count": null,
      "outputs": [
        {
          "output_type": "stream",
          "text": [
            "\r[*********************100%***********************]  1 of 1 completed\n"
          ],
          "name": "stdout"
        }
      ]
    },
    {
      "cell_type": "code",
      "metadata": {
        "id": "OO_wPsMfUXQt"
      },
      "source": [
        "df1.to_csv('df.csv')"
      ],
      "execution_count": null,
      "outputs": []
    },
    {
      "cell_type": "code",
      "metadata": {
        "colab": {
          "base_uri": "https://localhost:8080/",
          "height": 390
        },
        "id": "rjFzQ5J7X8_h",
        "outputId": "90625e4e-c7fb-4122-d806-86e564a808e4"
      },
      "source": [
        "df = pd.read_csv('df.csv')\r\n",
        "df"
      ],
      "execution_count": null,
      "outputs": [
        {
          "output_type": "execute_result",
          "data": {
            "text/html": [
              "<div>\n",
              "<style scoped>\n",
              "    .dataframe tbody tr th:only-of-type {\n",
              "        vertical-align: middle;\n",
              "    }\n",
              "\n",
              "    .dataframe tbody tr th {\n",
              "        vertical-align: top;\n",
              "    }\n",
              "\n",
              "    .dataframe thead th {\n",
              "        text-align: right;\n",
              "    }\n",
              "</style>\n",
              "<table border=\"1\" class=\"dataframe\">\n",
              "  <thead>\n",
              "    <tr style=\"text-align: right;\">\n",
              "      <th></th>\n",
              "      <th>Date</th>\n",
              "      <th>Open</th>\n",
              "      <th>High</th>\n",
              "      <th>Low</th>\n",
              "      <th>Close</th>\n",
              "      <th>Adj Close</th>\n",
              "      <th>Volume</th>\n",
              "    </tr>\n",
              "  </thead>\n",
              "  <tbody>\n",
              "    <tr>\n",
              "      <th>0</th>\n",
              "      <td>2020-12-01</td>\n",
              "      <td>25.980000</td>\n",
              "      <td>26.400000</td>\n",
              "      <td>25.920000</td>\n",
              "      <td>26.299999</td>\n",
              "      <td>26.299999</td>\n",
              "      <td>12790700</td>\n",
              "    </tr>\n",
              "    <tr>\n",
              "      <th>1</th>\n",
              "      <td>2020-12-02</td>\n",
              "      <td>26.290001</td>\n",
              "      <td>27.240000</td>\n",
              "      <td>26.030001</td>\n",
              "      <td>26.660000</td>\n",
              "      <td>26.660000</td>\n",
              "      <td>16340300</td>\n",
              "    </tr>\n",
              "    <tr>\n",
              "      <th>2</th>\n",
              "      <td>2020-12-03</td>\n",
              "      <td>26.870001</td>\n",
              "      <td>27.639999</td>\n",
              "      <td>26.690001</td>\n",
              "      <td>27.200001</td>\n",
              "      <td>27.200001</td>\n",
              "      <td>14481900</td>\n",
              "    </tr>\n",
              "    <tr>\n",
              "      <th>3</th>\n",
              "      <td>2020-12-04</td>\n",
              "      <td>27.709999</td>\n",
              "      <td>28.290001</td>\n",
              "      <td>27.700001</td>\n",
              "      <td>28.100000</td>\n",
              "      <td>28.100000</td>\n",
              "      <td>10531000</td>\n",
              "    </tr>\n",
              "    <tr>\n",
              "      <th>4</th>\n",
              "      <td>2020-12-07</td>\n",
              "      <td>28.000000</td>\n",
              "      <td>28.230000</td>\n",
              "      <td>27.260000</td>\n",
              "      <td>27.469999</td>\n",
              "      <td>27.469999</td>\n",
              "      <td>14894400</td>\n",
              "    </tr>\n",
              "    <tr>\n",
              "      <th>5</th>\n",
              "      <td>2020-12-08</td>\n",
              "      <td>27.320000</td>\n",
              "      <td>27.740000</td>\n",
              "      <td>27.150000</td>\n",
              "      <td>27.230000</td>\n",
              "      <td>27.230000</td>\n",
              "      <td>8495000</td>\n",
              "    </tr>\n",
              "    <tr>\n",
              "      <th>6</th>\n",
              "      <td>2020-12-09</td>\n",
              "      <td>27.230000</td>\n",
              "      <td>27.520000</td>\n",
              "      <td>26.959999</td>\n",
              "      <td>27.260000</td>\n",
              "      <td>27.260000</td>\n",
              "      <td>18354800</td>\n",
              "    </tr>\n",
              "    <tr>\n",
              "      <th>7</th>\n",
              "      <td>2020-12-10</td>\n",
              "      <td>27.480000</td>\n",
              "      <td>28.719999</td>\n",
              "      <td>27.410000</td>\n",
              "      <td>28.250000</td>\n",
              "      <td>28.250000</td>\n",
              "      <td>21953100</td>\n",
              "    </tr>\n",
              "    <tr>\n",
              "      <th>8</th>\n",
              "      <td>2020-12-11</td>\n",
              "      <td>28.059999</td>\n",
              "      <td>28.200001</td>\n",
              "      <td>27.680000</td>\n",
              "      <td>27.780001</td>\n",
              "      <td>27.780001</td>\n",
              "      <td>8410500</td>\n",
              "    </tr>\n",
              "    <tr>\n",
              "      <th>9</th>\n",
              "      <td>2020-12-14</td>\n",
              "      <td>28.459999</td>\n",
              "      <td>28.570000</td>\n",
              "      <td>27.799999</td>\n",
              "      <td>27.889999</td>\n",
              "      <td>27.889999</td>\n",
              "      <td>15227000</td>\n",
              "    </tr>\n",
              "    <tr>\n",
              "      <th>10</th>\n",
              "      <td>2020-12-15</td>\n",
              "      <td>27.889999</td>\n",
              "      <td>28.420000</td>\n",
              "      <td>27.860001</td>\n",
              "      <td>28.250000</td>\n",
              "      <td>28.250000</td>\n",
              "      <td>11595600</td>\n",
              "    </tr>\n",
              "  </tbody>\n",
              "</table>\n",
              "</div>"
            ],
            "text/plain": [
              "          Date       Open       High        Low      Close  Adj Close    Volume\n",
              "0   2020-12-01  25.980000  26.400000  25.920000  26.299999  26.299999  12790700\n",
              "1   2020-12-02  26.290001  27.240000  26.030001  26.660000  26.660000  16340300\n",
              "2   2020-12-03  26.870001  27.639999  26.690001  27.200001  27.200001  14481900\n",
              "3   2020-12-04  27.709999  28.290001  27.700001  28.100000  28.100000  10531000\n",
              "4   2020-12-07  28.000000  28.230000  27.260000  27.469999  27.469999  14894400\n",
              "5   2020-12-08  27.320000  27.740000  27.150000  27.230000  27.230000   8495000\n",
              "6   2020-12-09  27.230000  27.520000  26.959999  27.260000  27.260000  18354800\n",
              "7   2020-12-10  27.480000  28.719999  27.410000  28.250000  28.250000  21953100\n",
              "8   2020-12-11  28.059999  28.200001  27.680000  27.780001  27.780001   8410500\n",
              "9   2020-12-14  28.459999  28.570000  27.799999  27.889999  27.889999  15227000\n",
              "10  2020-12-15  27.889999  28.420000  27.860001  28.250000  28.250000  11595600"
            ]
          },
          "metadata": {
            "tags": []
          },
          "execution_count": 62
        }
      ]
    },
    {
      "cell_type": "markdown",
      "metadata": {
        "id": "zRKY2nbJVo14"
      },
      "source": [
        "# 2) Separando os dados para preparar os modelos"
      ]
    },
    {
      "cell_type": "code",
      "metadata": {
        "colab": {
          "base_uri": "https://localhost:8080/",
          "height": 80
        },
        "id": "EO-bTFg6UmMl",
        "outputId": "6a6cca94-d0aa-4a4d-ff3a-d7f55e22a9e5"
      },
      "source": [
        "actual_price = df.tail(1) # ultimo preço observado\r\n",
        "actual_price"
      ],
      "execution_count": null,
      "outputs": [
        {
          "output_type": "execute_result",
          "data": {
            "text/html": [
              "<div>\n",
              "<style scoped>\n",
              "    .dataframe tbody tr th:only-of-type {\n",
              "        vertical-align: middle;\n",
              "    }\n",
              "\n",
              "    .dataframe tbody tr th {\n",
              "        vertical-align: top;\n",
              "    }\n",
              "\n",
              "    .dataframe thead th {\n",
              "        text-align: right;\n",
              "    }\n",
              "</style>\n",
              "<table border=\"1\" class=\"dataframe\">\n",
              "  <thead>\n",
              "    <tr style=\"text-align: right;\">\n",
              "      <th></th>\n",
              "      <th>Date</th>\n",
              "      <th>Open</th>\n",
              "      <th>High</th>\n",
              "      <th>Low</th>\n",
              "      <th>Close</th>\n",
              "      <th>Adj Close</th>\n",
              "      <th>Volume</th>\n",
              "    </tr>\n",
              "  </thead>\n",
              "  <tbody>\n",
              "    <tr>\n",
              "      <th>10</th>\n",
              "      <td>2020-12-15</td>\n",
              "      <td>27.889999</td>\n",
              "      <td>28.42</td>\n",
              "      <td>27.860001</td>\n",
              "      <td>28.25</td>\n",
              "      <td>28.25</td>\n",
              "      <td>11595600</td>\n",
              "    </tr>\n",
              "  </tbody>\n",
              "</table>\n",
              "</div>"
            ],
            "text/plain": [
              "          Date       Open   High        Low  Close  Adj Close    Volume\n",
              "10  2020-12-15  27.889999  28.42  27.860001  28.25      28.25  11595600"
            ]
          },
          "metadata": {
            "tags": []
          },
          "execution_count": 63
        }
      ]
    },
    {
      "cell_type": "code",
      "metadata": {
        "colab": {
          "base_uri": "https://localhost:8080/",
          "height": 359
        },
        "id": "SVTDpBiwVB_H",
        "outputId": "d80de612-a3b1-4eb0-d5ef-4a4977f5e13d"
      },
      "source": [
        "df= df.head(len(df)-1) # pego o restante dos dados\r\n",
        "df"
      ],
      "execution_count": null,
      "outputs": [
        {
          "output_type": "execute_result",
          "data": {
            "text/html": [
              "<div>\n",
              "<style scoped>\n",
              "    .dataframe tbody tr th:only-of-type {\n",
              "        vertical-align: middle;\n",
              "    }\n",
              "\n",
              "    .dataframe tbody tr th {\n",
              "        vertical-align: top;\n",
              "    }\n",
              "\n",
              "    .dataframe thead th {\n",
              "        text-align: right;\n",
              "    }\n",
              "</style>\n",
              "<table border=\"1\" class=\"dataframe\">\n",
              "  <thead>\n",
              "    <tr style=\"text-align: right;\">\n",
              "      <th></th>\n",
              "      <th>Date</th>\n",
              "      <th>Open</th>\n",
              "      <th>High</th>\n",
              "      <th>Low</th>\n",
              "      <th>Close</th>\n",
              "      <th>Adj Close</th>\n",
              "      <th>Volume</th>\n",
              "    </tr>\n",
              "  </thead>\n",
              "  <tbody>\n",
              "    <tr>\n",
              "      <th>0</th>\n",
              "      <td>2020-12-01</td>\n",
              "      <td>25.980000</td>\n",
              "      <td>26.400000</td>\n",
              "      <td>25.920000</td>\n",
              "      <td>26.299999</td>\n",
              "      <td>26.299999</td>\n",
              "      <td>12790700</td>\n",
              "    </tr>\n",
              "    <tr>\n",
              "      <th>1</th>\n",
              "      <td>2020-12-02</td>\n",
              "      <td>26.290001</td>\n",
              "      <td>27.240000</td>\n",
              "      <td>26.030001</td>\n",
              "      <td>26.660000</td>\n",
              "      <td>26.660000</td>\n",
              "      <td>16340300</td>\n",
              "    </tr>\n",
              "    <tr>\n",
              "      <th>2</th>\n",
              "      <td>2020-12-03</td>\n",
              "      <td>26.870001</td>\n",
              "      <td>27.639999</td>\n",
              "      <td>26.690001</td>\n",
              "      <td>27.200001</td>\n",
              "      <td>27.200001</td>\n",
              "      <td>14481900</td>\n",
              "    </tr>\n",
              "    <tr>\n",
              "      <th>3</th>\n",
              "      <td>2020-12-04</td>\n",
              "      <td>27.709999</td>\n",
              "      <td>28.290001</td>\n",
              "      <td>27.700001</td>\n",
              "      <td>28.100000</td>\n",
              "      <td>28.100000</td>\n",
              "      <td>10531000</td>\n",
              "    </tr>\n",
              "    <tr>\n",
              "      <th>4</th>\n",
              "      <td>2020-12-07</td>\n",
              "      <td>28.000000</td>\n",
              "      <td>28.230000</td>\n",
              "      <td>27.260000</td>\n",
              "      <td>27.469999</td>\n",
              "      <td>27.469999</td>\n",
              "      <td>14894400</td>\n",
              "    </tr>\n",
              "    <tr>\n",
              "      <th>5</th>\n",
              "      <td>2020-12-08</td>\n",
              "      <td>27.320000</td>\n",
              "      <td>27.740000</td>\n",
              "      <td>27.150000</td>\n",
              "      <td>27.230000</td>\n",
              "      <td>27.230000</td>\n",
              "      <td>8495000</td>\n",
              "    </tr>\n",
              "    <tr>\n",
              "      <th>6</th>\n",
              "      <td>2020-12-09</td>\n",
              "      <td>27.230000</td>\n",
              "      <td>27.520000</td>\n",
              "      <td>26.959999</td>\n",
              "      <td>27.260000</td>\n",
              "      <td>27.260000</td>\n",
              "      <td>18354800</td>\n",
              "    </tr>\n",
              "    <tr>\n",
              "      <th>7</th>\n",
              "      <td>2020-12-10</td>\n",
              "      <td>27.480000</td>\n",
              "      <td>28.719999</td>\n",
              "      <td>27.410000</td>\n",
              "      <td>28.250000</td>\n",
              "      <td>28.250000</td>\n",
              "      <td>21953100</td>\n",
              "    </tr>\n",
              "    <tr>\n",
              "      <th>8</th>\n",
              "      <td>2020-12-11</td>\n",
              "      <td>28.059999</td>\n",
              "      <td>28.200001</td>\n",
              "      <td>27.680000</td>\n",
              "      <td>27.780001</td>\n",
              "      <td>27.780001</td>\n",
              "      <td>8410500</td>\n",
              "    </tr>\n",
              "    <tr>\n",
              "      <th>9</th>\n",
              "      <td>2020-12-14</td>\n",
              "      <td>28.459999</td>\n",
              "      <td>28.570000</td>\n",
              "      <td>27.799999</td>\n",
              "      <td>27.889999</td>\n",
              "      <td>27.889999</td>\n",
              "      <td>15227000</td>\n",
              "    </tr>\n",
              "  </tbody>\n",
              "</table>\n",
              "</div>"
            ],
            "text/plain": [
              "         Date       Open       High        Low      Close  Adj Close    Volume\n",
              "0  2020-12-01  25.980000  26.400000  25.920000  26.299999  26.299999  12790700\n",
              "1  2020-12-02  26.290001  27.240000  26.030001  26.660000  26.660000  16340300\n",
              "2  2020-12-03  26.870001  27.639999  26.690001  27.200001  27.200001  14481900\n",
              "3  2020-12-04  27.709999  28.290001  27.700001  28.100000  28.100000  10531000\n",
              "4  2020-12-07  28.000000  28.230000  27.260000  27.469999  27.469999  14894400\n",
              "5  2020-12-08  27.320000  27.740000  27.150000  27.230000  27.230000   8495000\n",
              "6  2020-12-09  27.230000  27.520000  26.959999  27.260000  27.260000  18354800\n",
              "7  2020-12-10  27.480000  28.719999  27.410000  28.250000  28.250000  21953100\n",
              "8  2020-12-11  28.059999  28.200001  27.680000  27.780001  27.780001   8410500\n",
              "9  2020-12-14  28.459999  28.570000  27.799999  27.889999  27.889999  15227000"
            ]
          },
          "metadata": {
            "tags": []
          },
          "execution_count": 64
        }
      ]
    },
    {
      "cell_type": "code",
      "metadata": {
        "id": "rrq6ZudzVgQD"
      },
      "source": [
        "days = list() # crio duas listas vazia\r\n",
        "adj_close_prices = list()"
      ],
      "execution_count": null,
      "outputs": []
    },
    {
      "cell_type": "code",
      "metadata": {
        "id": "ItxQFQgsWCE8"
      },
      "source": [
        "df_days = df.loc[:, 'Date']\r\n",
        "df_adj_close = df.loc[:, 'Adj Close']"
      ],
      "execution_count": null,
      "outputs": []
    },
    {
      "cell_type": "code",
      "metadata": {
        "id": "OEioWk0lWj-v"
      },
      "source": [
        "for day in df_days: # cria um dataset de datas independente\r\n",
        "  days.append([int(day.split('-')[2])]) # ele vai ter só o numero do dia\r\n",
        "for adj_close_price in df_adj_close: # lista com os preços respectivos\r\n",
        "  adj_close_prices.append(float(adj_close_price))"
      ],
      "execution_count": null,
      "outputs": []
    },
    {
      "cell_type": "code",
      "metadata": {
        "colab": {
          "base_uri": "https://localhost:8080/"
        },
        "id": "XUHpUMsF_4Mn",
        "outputId": "a7c9771b-2ed2-4b21-e914-40eb0cfdcabe"
      },
      "source": [
        "days"
      ],
      "execution_count": null,
      "outputs": [
        {
          "output_type": "execute_result",
          "data": {
            "text/plain": [
              "[[1], [2], [3], [4], [7], [8], [9], [10], [11], [14]]"
            ]
          },
          "metadata": {
            "tags": []
          },
          "execution_count": 68
        }
      ]
    },
    {
      "cell_type": "markdown",
      "metadata": {
        "id": "Z8H-CGkjbfcd"
      },
      "source": [
        "# 3) Os três modelos"
      ]
    },
    {
      "cell_type": "markdown",
      "metadata": {
        "id": "ZXzJn1hbcKbE"
      },
      "source": [
        "## 3.1) Criando"
      ]
    },
    {
      "cell_type": "code",
      "metadata": {
        "colab": {
          "base_uri": "https://localhost:8080/"
        },
        "id": "i_Prm37oXq8H",
        "outputId": "78a1f475-f606-4c0c-c738-84fd6b180f82"
      },
      "source": [
        "lin_svr = SVR(kernel='linear', C=1000.0)\r\n",
        "lin_svr.fit(days, adj_close_prices)\r\n",
        "\r\n",
        "poly_svr = SVR(kernel='poly', C=1000.0, degree=2)\r\n",
        "poly_svr.fit(days, adj_close_prices)\r\n",
        "\r\n",
        "rbf_svr = SVR(kernel='rbf', C=1000.0, gamma=0.85)\r\n",
        "rbf_svr.fit(days, adj_close_prices)"
      ],
      "execution_count": null,
      "outputs": [
        {
          "output_type": "execute_result",
          "data": {
            "text/plain": [
              "SVR(C=1000.0, cache_size=200, coef0=0.0, degree=3, epsilon=0.1, gamma=0.85,\n",
              "    kernel='rbf', max_iter=-1, shrinking=True, tol=0.001, verbose=False)"
            ]
          },
          "metadata": {
            "tags": []
          },
          "execution_count": 69
        }
      ]
    },
    {
      "cell_type": "markdown",
      "metadata": {
        "id": "XxIn0ppzcMic"
      },
      "source": [
        "## 3.2) Plotando"
      ]
    },
    {
      "cell_type": "code",
      "metadata": {
        "colab": {
          "base_uri": "https://localhost:8080/",
          "height": 537
        },
        "id": "NqaEhPP_b8m4",
        "outputId": "94cc823b-c524-4a23-e0b6-8fc3fe1e3c12"
      },
      "source": [
        "plt.figure(figsize=(16,8))\r\n",
        "plt.scatter(days, adj_close_prices, color = 'black', label = 'Data') # valores reais em preto\r\n",
        "plt.plot(days, rbf_svr.predict(days), color = 'green', label = 'RBF_Model') # modelo que melhor se adequou aos dados\r\n",
        "plt.plot(days, poly_svr.predict(days), color = 'orange', label = 'Polynomial_Model')\r\n",
        "plt.plot(days, lin_svr.predict(days), color = 'blue', label = 'Linear_Model')\r\n",
        "plt.xlabel('Days')\r\n",
        "plt.ylabel('Adj Close Prices (U$)')\r\n",
        "plt.legend()\r\n",
        "plt.show()"
      ],
      "execution_count": null,
      "outputs": [
        {
          "output_type": "display_data",
          "data": {
            "image/png": "[encoded data removed]",
            "text/plain": [
              "<Figure size 1152x576 with 1 Axes>"
            ]
          },
          "metadata": {
            "tags": []
          }
        }
      ]
    },
    {
      "cell_type": "markdown",
      "metadata": {
        "id": "NooYS5hVef_k"
      },
      "source": [
        "# 4) Mostrando os preços para um dado dia"
      ]
    },
    {
      "cell_type": "code",
      "metadata": {
        "colab": {
          "base_uri": "https://localhost:8080/"
        },
        "id": "oKmw7XRSc4dN",
        "outputId": "6eadcb5c-6c95-4721-da3a-527b1f168837"
      },
      "source": [
        "day = [[20]]\r\n",
        "print('The RBF SVR predicted price:', rbf_svr.predict(day))\r\n",
        "print('The Liner SVR predicted price:', lin_svr.predict(day))\r\n",
        "print('The Polynomial SVR predicted price:', poly_svr.predict(day))"
      ],
      "execution_count": null,
      "outputs": [
        {
          "output_type": "stream",
          "text": [
            "The RBF SVR predicted price: [27.44934894]\n",
            "The Liner SVR predicted price: [28.60499916]\n",
            "The Polynomial SVR predicted price: [28.96426343]\n"
          ],
          "name": "stdout"
        }
      ]
    },
    {
      "cell_type": "code",
      "metadata": {
        "colab": {
          "base_uri": "https://localhost:8080/"
        },
        "id": "7_Tdz_0Ye8fU",
        "outputId": "6fd2671d-25ed-43c3-acd0-89c4d248de74"
      },
      "source": [
        "print('The actual price:', actual_price['Adj Close'][10]) # novamente, o modelo que parece melhor projetar um valor real é o RBF"
      ],
      "execution_count": null,
      "outputs": [
        {
          "output_type": "stream",
          "text": [
            "The actual price: 28.25\n"
          ],
          "name": "stdout"
        }
      ]
    },
    {
      "cell_type": "code",
      "metadata": {
        "id": "TC_NmM4AfSsH"
      },
      "source": [
        ""
      ],
      "execution_count": null,
      "outputs": []
    }
  ]
}